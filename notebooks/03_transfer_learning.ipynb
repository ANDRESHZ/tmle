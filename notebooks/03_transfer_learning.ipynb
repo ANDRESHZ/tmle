{
 "cells": [
  {
   "cell_type": "code",
   "execution_count": 1,
   "metadata": {},
   "outputs": [],
   "source": [
    "import os\n",
    "import numpy as np\n",
    "import matplotlib.pyplot as plt"
   ]
  },
  {
   "cell_type": "markdown",
   "metadata": {},
   "source": [
    "Computations performed in this notebook may take hours. Therefore, we have implemented notebook extension called `skip_cell` which could be used to omit certain cells. We defined global variables `IMPATIENCE` which should be set to `True` when you want to load data and/or models from disk."
   ]
  },
  {
   "cell_type": "code",
   "execution_count": 2,
   "metadata": {},
   "outputs": [],
   "source": [
    "%load_ext skip_cell"
   ]
  },
  {
   "cell_type": "code",
   "execution_count": 3,
   "metadata": {},
   "outputs": [],
   "source": [
    "IMPATIENCE = True"
   ]
  },
  {
   "cell_type": "markdown",
   "metadata": {},
   "source": [
    "# Extracting features using CNN"
   ]
  },
  {
   "cell_type": "markdown",
   "metadata": {},
   "source": [
    "We have started by preprocessing images. We have reshaped them and have performed random crop in order to transform them to target size of `(224, 224, 3)`. Then, we have defined data loaders using [`ImageFoldersDataset`](https://github.com/stasulam/tmle/blob/master/tmle/dataloaders.py#L12)."
   ]
  },
  {
   "cell_type": "code",
   "execution_count": 4,
   "metadata": {},
   "outputs": [],
   "source": [
    "from torchvision import transforms\n",
    "from tmle.dataloaders import ImageFoldersDataset\n",
    "\n",
    "# define transformations\n",
    "basic_transforms = transforms.Compose([\n",
    "    transforms.Resize(256),\n",
    "    transforms.RandomCrop(224),\n",
    "    transforms.ToTensor(),\n",
    "    transforms.Normalize(\n",
    "        mean=[0.5, 0.5, 0.5],\n",
    "        std=[0.5, 0.5, 0.5]\n",
    "    )\n",
    "])\n",
    "# define dataset\n",
    "train_dataset = ImageFoldersDataset(\n",
    "    path_to_data='../data/cpu/train/',\n",
    "    transform=basic_transforms\n",
    ")\n",
    "test_dataset = ImageFoldersDataset(\n",
    "    path_to_data='../data/cpu/test/',\n",
    "    transform=basic_transforms\n",
    ")"
   ]
  },
  {
   "cell_type": "markdown",
   "metadata": {},
   "source": [
    "(**NOTE**) In order to use `ImageFoldersDataset` images must be organized in the following way:"
   ]
  },
  {
   "cell_type": "code",
   "execution_count": 5,
   "metadata": {},
   "outputs": [
    {
     "name": "stdout",
     "output_type": "stream",
     "text": [
      "\u001b[01;34m../data\u001b[00m\n",
      "├── \u001b[01;34mcpu\u001b[00m\n",
      "│   ├── \u001b[01;34mtest\u001b[00m\n",
      "│   │   ├── \u001b[01;34mbird\u001b[00m\n",
      "│   │   ├── \u001b[01;34mboat\u001b[00m\n",
      "│   │   ├── \u001b[01;34mcat\u001b[00m\n",
      "│   │   ├── \u001b[01;34mdog\u001b[00m\n",
      "│   │   ├── \u001b[01;34mflower\u001b[00m\n",
      "│   │   ├── \u001b[01;34mfrog\u001b[00m\n",
      "│   │   ├── \u001b[01;34mjumbojet\u001b[00m\n",
      "│   │   ├── \u001b[01;34mmushroom\u001b[00m\n",
      "│   │   ├── \u001b[01;34msportscar\u001b[00m\n",
      "│   │   └── \u001b[01;34mtree\u001b[00m\n",
      "│   └── \u001b[01;34mtrain\u001b[00m\n",
      "│       ├── \u001b[01;34mbird\u001b[00m\n",
      "│       ├── \u001b[01;34mboat\u001b[00m\n",
      "│       ├── \u001b[01;34mcat\u001b[00m\n",
      "│       ├── \u001b[01;34mdog\u001b[00m\n",
      "│       ├── \u001b[01;34mflower\u001b[00m\n",
      "│       ├── \u001b[01;34mfrog\u001b[00m\n",
      "│       ├── \u001b[01;34mjumbojet\u001b[00m\n",
      "│       ├── \u001b[01;34mmushroom\u001b[00m\n",
      "│       ├── \u001b[01;34msportscar\u001b[00m\n",
      "│       └── \u001b[01;34mtree\u001b[00m\n",
      "└── \u001b[01;34mgpu\u001b[00m\n",
      "    ├── \u001b[01;34mtest\u001b[00m\n",
      "    │   ├── \u001b[01;34mbird\u001b[00m\n",
      "    │   ├── \u001b[01;34mboat\u001b[00m\n",
      "    │   ├── \u001b[01;34mcat\u001b[00m\n",
      "    │   ├── \u001b[01;34mdog\u001b[00m\n",
      "    │   ├── \u001b[01;34mflower\u001b[00m\n",
      "    │   ├── \u001b[01;34mfrog\u001b[00m\n",
      "    │   ├── \u001b[01;34mjumbojet\u001b[00m\n",
      "    │   ├── \u001b[01;34mmushroom\u001b[00m\n",
      "    │   ├── \u001b[01;34msportscar\u001b[00m\n",
      "    │   └── \u001b[01;34mtree\u001b[00m\n",
      "    └── \u001b[01;34mtrain\u001b[00m\n",
      "        ├── \u001b[01;34mbird\u001b[00m\n",
      "        ├── \u001b[01;34mboat\u001b[00m\n",
      "        ├── \u001b[01;34mcat\u001b[00m\n",
      "        ├── \u001b[01;34mdog\u001b[00m\n",
      "        ├── \u001b[01;34mflower\u001b[00m\n",
      "        ├── \u001b[01;34mfrog\u001b[00m\n",
      "        ├── \u001b[01;34mjumbojet\u001b[00m\n",
      "        ├── \u001b[01;34mmushroom\u001b[00m\n",
      "        ├── \u001b[01;34msportscar\u001b[00m\n",
      "        └── \u001b[01;34mtree\u001b[00m\n",
      "\n",
      "46 directories\n"
     ]
    }
   ],
   "source": [
    "!tree -d ../data"
   ]
  },
  {
   "cell_type": "markdown",
   "metadata": {},
   "source": [
    "Then, we have downloaded `ResNet18` with weights obtained from `ImageNet`. `tmle` package provides class [`CNNFeatures`](https://github.com/stasulam/tmle/blob/master/tmle/transformers.py#L12) which implements methods useful in transforming images into feature vectors. We have instantiated `CNNFeatures` with `n_features` set to `512` and `rm_top_layers` set to `1` (which removes fully-connected layer from the top of the network)."
   ]
  },
  {
   "cell_type": "code",
   "execution_count": 6,
   "metadata": {},
   "outputs": [],
   "source": [
    "from torchvision import models\n",
    "from tmle.transformers import CNNFeatures\n",
    "\n",
    "resnet18 = models.resnet18(pretrained=True)\n",
    "resnet18_features = CNNFeatures(\n",
    "    n_features=512,\n",
    "    rm_top_layers=1\n",
    ")"
   ]
  },
  {
   "cell_type": "markdown",
   "metadata": {},
   "source": [
    "After fixing weights of our network we have performed forward pass in order to obtain features vectors of sizes `(512, 1)`. We can skip this step and load `np.ndarray` from `../data/` directory."
   ]
  },
  {
   "cell_type": "code",
   "execution_count": 7,
   "metadata": {},
   "outputs": [],
   "source": [
    "%%skip $IMPATIENCE\n",
    "X_resnet18, y_resnet18 = resnet18_features.extract_features(\n",
    "    model=resnet18,\n",
    "    dataset=train_dataset\n",
    ")\n",
    "X_resnet18_test, y_resnet18_test = resnet18_features.extract_features(\n",
    "    model=resnet18,\n",
    "    dataset=test_dataset\n",
    ")\n",
    "# save np.ndarrays\n",
    "np.save('../data/X_resnet18.npy', arr=X_resnet18)\n",
    "np.save('../data/y_resnet18.npy', arr=y_resnet18)\n",
    "np.save('../data/X_resnet18_test.npy', arr=X_resnet18_test)\n",
    "np.save('../data/y_resnet18_test.npy', arr=y_resnet18_test)"
   ]
  },
  {
   "cell_type": "markdown",
   "metadata": {},
   "source": [
    "We have repeated the same computations for `ResNet50`."
   ]
  },
  {
   "cell_type": "code",
   "execution_count": 8,
   "metadata": {},
   "outputs": [],
   "source": [
    "resnet50 = models.resnet50(pretrained=True)\n",
    "resnet50_features = CNNFeatures(\n",
    "    n_features=2048,\n",
    "    rm_top_layers=1\n",
    ")"
   ]
  },
  {
   "cell_type": "code",
   "execution_count": 9,
   "metadata": {},
   "outputs": [],
   "source": [
    "%%skip $IMPATIENCE\n",
    "X_resnet50, y_resnet50 = resnet50_features.extract_features(\n",
    "    model=resnet50,\n",
    "    dataset=train_dataset\n",
    ")\n",
    "X_resnet50_test, y_resnet50_test = resnet50_features.extract_features(\n",
    "    model=resnet50,\n",
    "    dataset=test_dataset\n",
    ")\n",
    "# save np.ndarrays\n",
    "np.save('../data/X_resnet50.npy', arr=X_resnet50)\n",
    "np.save('../data/y_resnet50.npy', arr=y_resnet50)\n",
    "np.save('../data/X_resnet50_test.npy', arr=X_resnet50_test)\n",
    "np.save('../data/y_resnet50_test.npy', arr=y_resnet50_test)"
   ]
  },
  {
   "cell_type": "markdown",
   "metadata": {},
   "source": [
    "## SVM on top of features from ResNet18"
   ]
  },
  {
   "cell_type": "markdown",
   "metadata": {},
   "source": [
    "Set `EXPERIMENT_NAME`. Results of experiments will be stored in `../experiments/{EXPERIMENT_NAME}.hpopt` and could be further used both: to continuing search for optimal *hyperparameters* or to training model with best subset of already obtained *hyperparameters* values."
   ]
  },
  {
   "cell_type": "code",
   "execution_count": 10,
   "metadata": {},
   "outputs": [],
   "source": [
    "EXPERIMENT_NAME = 'resnet18_svm'"
   ]
  },
  {
   "cell_type": "code",
   "execution_count": 11,
   "metadata": {},
   "outputs": [],
   "source": [
    "X_resnet18, y_resnet18 = np.load('../data/X_resnet18.npy'), np.load('../data/y_resnet18.npy')"
   ]
  },
  {
   "cell_type": "markdown",
   "metadata": {},
   "source": [
    "We have tuned `SVM` using [`ClassifierOptimizer`](https://github.com/stasulam/tmle/blob/master/tmle/model_selection.py#L15) from `tmle`. For given set of *hyperparameters* (drawn from space defined below) we measure performance on datasets obtained from performing `StratifiedKFold` (due to imbalanced classes) with `balanced_accuracy_score` (same reason). Because of high dimensionality of data the risk of overfitting was very high. Thus, we implemented additional penalty to prevent `TPE` from sampling *hyperparameters* that leads to overfitting (See: [line 143](https://github.com/stasulam/tmle/blob/master/tmle/model_selection.py#L143)).\n",
    "\n",
    "During training we optimize following hyperparameters:\n",
    "\n",
    "* `penalty`: specifies the norm used in the penalization. The $L^{2}$ penalty is the standard used in `SVC`. The $L^{1}$ leads to coefficients vectors that are sparse.\n",
    "* `class_weight`: if not given, all classes are supposed to have weight one. The *balanced* mode uses the values of y to automatically adjust weights inversely proportional to class frequencies in the input data as `n_samples / (n_classes * np.bincount(y))`.\n",
    "* `C`: penalty parameter `C` of the error term."
   ]
  },
  {
   "cell_type": "code",
   "execution_count": 12,
   "metadata": {},
   "outputs": [],
   "source": [
    "import hyperopt\n",
    "from hyperopt import tpe, fmin, hp, Trials, STATUS_OK\n",
    "\n",
    "space = dict()\n",
    "space['penalty'] = hp.choice('penalty', ['l1', 'l2'])\n",
    "space['class_weight'] = hp.choice('class_weight', [None, 'balanced'])\n",
    "space['C'] = hp.uniform('C', 0.0001, 5)"
   ]
  },
  {
   "cell_type": "markdown",
   "metadata": {},
   "source": [
    "We fixed certain parameters of `LinearSVC`. `max_iter` was set to 20000 (with default value equals 1000) in order to counteract the problem of convergence. `dual` (which select the algorithm to either solve the dual or primal optimization problem) in order to enable $L^{1}$ penalty."
   ]
  },
  {
   "cell_type": "code",
   "execution_count": 13,
   "metadata": {},
   "outputs": [],
   "source": [
    "from tmle.model_selection import ClassifierOptimizer\n",
    "from sklearn.svm import LinearSVC\n",
    "from sklearn.metrics import balanced_accuracy_score\n",
    "\n",
    "clf_optim = ClassifierOptimizer(\n",
    "    classifier=LinearSVC(\n",
    "        max_iter=20000,\n",
    "        random_state=42,\n",
    "        dual=False,\n",
    "        verbose=1\n",
    "    ),\n",
    "    space=space,\n",
    "    metric=balanced_accuracy_score\n",
    ")"
   ]
  },
  {
   "cell_type": "markdown",
   "metadata": {},
   "source": [
    "*Hyperparameters* tuning can take hours. Experiments conducted by me during preparation of this notebook took nearly 24 hours on my MacBook. Therefore, I recommend to load experiments results from disk."
   ]
  },
  {
   "cell_type": "code",
   "execution_count": 14,
   "metadata": {},
   "outputs": [],
   "source": [
    "%%skip $IMPATIENCE\n",
    "import warnings\n",
    "warnings.filterwarnings(\"ignore\")\n",
    "\n",
    "clf_optim.find_best_params(\n",
    "    X_resnet18,\n",
    "    y_resnet18,\n",
    "    experiments_path='../experiments/',\n",
    "    experiments_name=EXPERIMENT_NAME,\n",
    "    max_evals=10,\n",
    "    overfit_penalty=0.1\n",
    ")"
   ]
  },
  {
   "cell_type": "markdown",
   "metadata": {},
   "source": [
    "Load `hyperopt.Trials` from disk. It stores information about conducted experiments."
   ]
  },
  {
   "cell_type": "code",
   "execution_count": 15,
   "metadata": {},
   "outputs": [],
   "source": [
    "import pickle\n",
    "\n",
    "trials_path = os.path.join('../experiments/', 'resnet18_svm.hpopt')\n",
    "with open(trials_path, 'rb') as trials:\n",
    "    trials = pickle.load(trials)"
   ]
  },
  {
   "cell_type": "markdown",
   "metadata": {},
   "source": [
    "Then, we evaluate experiments by loading sets of *hyperparameters* with corresponding scores achieved on both: training and validation sets (as mean value on all folds). We additionaly introduce `train_valid_diff` measure which is calculated as a difference between scores achieved on train and validation sets."
   ]
  },
  {
   "cell_type": "code",
   "execution_count": 16,
   "metadata": {},
   "outputs": [],
   "source": [
    "experiments = clf_optim.evaluate_experiments(trials.trials)\\\n",
    "    .fillna(value='None')\\\n",
    "    .assign(train_valid_diff = lambda x: x.train - x.valid)"
   ]
  },
  {
   "cell_type": "markdown",
   "metadata": {},
   "source": [
    "We have visualized results."
   ]
  },
  {
   "cell_type": "code",
   "execution_count": 17,
   "metadata": {},
   "outputs": [],
   "source": [
    "import matplotlib.pyplot as plt\n",
    "import seaborn as sns\n",
    "%matplotlib inline"
   ]
  },
  {
   "cell_type": "markdown",
   "metadata": {},
   "source": [
    "Scores on train."
   ]
  },
  {
   "cell_type": "code",
   "execution_count": 18,
   "metadata": {},
   "outputs": [
    {
     "data": {
      "text/plain": [
       "<matplotlib.axes._subplots.AxesSubplot at 0x133f8bba8>"
      ]
     },
     "execution_count": 18,
     "metadata": {},
     "output_type": "execute_result"
    },
    {
     "data": {
      "image/png": "[encoded data removed]",
      "text/plain": [
       "<Figure size 1296x432 with 3 Axes>"
      ]
     },
     "metadata": {
      "needs_background": "light"
     },
     "output_type": "display_data"
    }
   ],
   "source": [
    "f, ax = plt.subplots(figsize=(18, 6), ncols=3)\n",
    "sns.scatterplot(x='C', y='train', data=experiments, ax=ax[0])\n",
    "sns.violinplot(x='penalty', y='train', data=experiments, ax=ax[1])\n",
    "sns.violinplot(x='class_weight', y='train', data=experiments, ax=ax[2])"
   ]
  },
  {
   "cell_type": "markdown",
   "metadata": {},
   "source": [
    "Scores on validation."
   ]
  },
  {
   "cell_type": "code",
   "execution_count": 19,
   "metadata": {},
   "outputs": [
    {
     "data": {
      "text/plain": [
       "<matplotlib.axes._subplots.AxesSubplot at 0x13627f6a0>"
      ]
     },
     "execution_count": 19,
     "metadata": {},
     "output_type": "execute_result"
    },
    {
     "data": {
      "image/png": "[encoded data removed]",
      "text/plain": [
       "<Figure size 1296x432 with 3 Axes>"
      ]
     },
     "metadata": {
      "needs_background": "light"
     },
     "output_type": "display_data"
    }
   ],
   "source": [
    "f, ax = plt.subplots(figsize=(18, 6), ncols=3)\n",
    "sns.scatterplot(x='C', y='valid', data=experiments, ax=ax[0])\n",
    "sns.violinplot(x='penalty', y='valid', data=experiments, ax=ax[1])\n",
    "sns.violinplot(x='class_weight', y='valid', data=experiments, ax=ax[2])"
   ]
  },
  {
   "cell_type": "markdown",
   "metadata": {},
   "source": [
    "Differences between train and validation scores."
   ]
  },
  {
   "cell_type": "code",
   "execution_count": 20,
   "metadata": {},
   "outputs": [
    {
     "data": {
      "text/plain": [
       "<matplotlib.axes._subplots.AxesSubplot at 0x136512828>"
      ]
     },
     "execution_count": 20,
     "metadata": {},
     "output_type": "execute_result"
    },
    {
     "data": {
      "image/png": "[encoded data removed]",
      "text/plain": [
       "<Figure size 1296x432 with 3 Axes>"
      ]
     },
     "metadata": {
      "needs_background": "light"
     },
     "output_type": "display_data"
    }
   ],
   "source": [
    "f, ax = plt.subplots(figsize=(18, 6), ncols=3)\n",
    "sns.scatterplot(x='C', y='train_valid_diff', data=experiments, ax=ax[0])\n",
    "sns.violinplot(x='penalty', y='train_valid_diff', data=experiments, ax=ax[1])\n",
    "sns.violinplot(x='class_weight', y='train_valid_diff', data=experiments, ax=ax[2])"
   ]
  },
  {
   "cell_type": "markdown",
   "metadata": {},
   "source": [
    "Then, we present subset of *hyperparameters* which maximixed the performance of classifier. We should notice that the best results was achieved with relatively high regularization. Value of `C` and selected `penalty` encourages the algorithm to prefer more regularized solutions."
   ]
  },
  {
   "cell_type": "code",
   "execution_count": 21,
   "metadata": {},
   "outputs": [
    {
     "data": {
      "text/plain": [
       "{'C': 0.05257098248823999, 'class_weight': None, 'penalty': 'l1'}"
      ]
     },
     "execution_count": 21,
     "metadata": {},
     "output_type": "execute_result"
    }
   ],
   "source": [
    "resnet18_best_params = clf_optim.space_eval(trials.best_trial)\n",
    "resnet18_best_params"
   ]
  },
  {
   "cell_type": "code",
   "execution_count": 22,
   "metadata": {},
   "outputs": [],
   "source": [
    "%%skip $IMPATIENCE\n",
    "clf = LinearSVC(\n",
    "    max_iter=20000,\n",
    "    random_state=42,\n",
    "    dual=False,\n",
    "    verbose=1\n",
    ").set_params(**resnet18_best_params)\n",
    "clf.fit(X_resnet18, y_resnet18)\n",
    "# save model\n",
    "from joblib import dump\n",
    "dump(clf, '../models/resnet18_svm.joblib')"
   ]
  },
  {
   "cell_type": "markdown",
   "metadata": {},
   "source": [
    "Load model from disk."
   ]
  },
  {
   "cell_type": "code",
   "execution_count": 23,
   "metadata": {},
   "outputs": [],
   "source": [
    "from joblib import load\n",
    "\n",
    "clf = load('../models/resnet18_svm.joblib')"
   ]
  },
  {
   "cell_type": "markdown",
   "metadata": {},
   "source": [
    "Load test set."
   ]
  },
  {
   "cell_type": "code",
   "execution_count": 24,
   "metadata": {},
   "outputs": [],
   "source": [
    "X_resnet18_test, y_resnet18_test = np.load('../data/X_resnet18_test.npy'), np.load('../data/y_resnet18_test.npy')"
   ]
  },
  {
   "cell_type": "code",
   "execution_count": 25,
   "metadata": {},
   "outputs": [
    {
     "name": "stdout",
     "output_type": "stream",
     "text": [
      "Accuracy: 0.85285. Balanced accuracy: 0.82905\n",
      "Accuracy: 0.80200. Balanced accuracy: 0.80200\n"
     ]
    }
   ],
   "source": [
    "from sklearn.metrics import accuracy_score, balanced_accuracy_score\n",
    "\n",
    "for x_i, y_i in zip([X_resnet18, X_resnet18_test], [y_resnet18, y_resnet18_test]):\n",
    "    y_pred = clf.predict(x_i)\n",
    "    print('Accuracy: {acc:.5f}. Balanced accuracy: {bal_acc:.5f}'.format(\n",
    "        acc=accuracy_score(y_i, y_pred),\n",
    "        bal_acc=balanced_accuracy_score(y_i, y_pred)\n",
    "    ))"
   ]
  },
  {
   "cell_type": "code",
   "execution_count": 26,
   "metadata": {},
   "outputs": [
    {
     "data": {
      "image/png": "[encoded data removed]",
      "text/plain": [
       "<Figure size 720x720 with 1 Axes>"
      ]
     },
     "metadata": {
      "needs_background": "light"
     },
     "output_type": "display_data"
    }
   ],
   "source": [
    "from sklearn.metrics import confusion_matrix\n",
    "from tmle.visualizations import plot_confusion_matrix\n",
    "\n",
    "cm_test = confusion_matrix(y_true=y_resnet18_test, y_pred=clf.predict(X_resnet18_test))\n",
    "plot_confusion_matrix(cm_test)"
   ]
  },
  {
   "cell_type": "markdown",
   "metadata": {},
   "source": [
    "## SVM on top of features from ResNet50"
   ]
  },
  {
   "cell_type": "markdown",
   "metadata": {},
   "source": [
    "We have repeated the same experiments for feature vectors obtained with `ResNet50`."
   ]
  },
  {
   "cell_type": "code",
   "execution_count": 27,
   "metadata": {},
   "outputs": [],
   "source": [
    "EXPERIMENT_NAME = 'resnet50_svm'"
   ]
  },
  {
   "cell_type": "code",
   "execution_count": 28,
   "metadata": {},
   "outputs": [],
   "source": [
    "X_resnet50, y_resnet50 = np.load('../data/X_resnet50.npy'), np.load('../data/y_resnet18.npy')"
   ]
  },
  {
   "cell_type": "code",
   "execution_count": 29,
   "metadata": {},
   "outputs": [],
   "source": [
    "import hyperopt\n",
    "from hyperopt import tpe, fmin, hp, Trials, STATUS_OK\n",
    "\n",
    "space = dict()\n",
    "space['penalty'] = hp.choice('penalty', ['l1', 'l2'])\n",
    "space['class_weight'] = hp.choice('class_weight', [None, 'balanced'])\n",
    "space['C'] = hp.uniform('C', 0.0001, 0.1)"
   ]
  },
  {
   "cell_type": "code",
   "execution_count": 30,
   "metadata": {},
   "outputs": [],
   "source": [
    "from tmle.model_selection import ClassifierOptimizer\n",
    "from sklearn.svm import LinearSVC\n",
    "from sklearn.metrics import balanced_accuracy_score\n",
    "\n",
    "clf_optim = ClassifierOptimizer(\n",
    "    classifier=LinearSVC(\n",
    "        max_iter=20000,\n",
    "        random_state=42,\n",
    "        verbose=1,\n",
    "        dual=False\n",
    "    ),\n",
    "    space=space,\n",
    "    metric=balanced_accuracy_score\n",
    ")"
   ]
  },
  {
   "cell_type": "code",
   "execution_count": 31,
   "metadata": {},
   "outputs": [],
   "source": [
    "%%skip $IMPATIENCE\n",
    "import warnings\n",
    "warnings.filterwarnings(\"ignore\")\n",
    "\n",
    "clf_optim.find_best_params(\n",
    "    X_resnet50,\n",
    "    y_resnet50,\n",
    "    experiments_path='../experiments/',\n",
    "    experiments_name=EXPERIMENT_NAME,\n",
    "    max_evals=50,\n",
    "    overfit_penalty=0.1\n",
    ")"
   ]
  },
  {
   "cell_type": "markdown",
   "metadata": {},
   "source": [
    "The high dimensionality of the data makes it practically impossible to carry out a reasonable number of experiments in a limited period of time. Therefore, we decided to fit classifier with best subset of parameters obtained during experiments which were made on features from `ResNet18`."
   ]
  },
  {
   "cell_type": "code",
   "execution_count": 32,
   "metadata": {},
   "outputs": [],
   "source": [
    "%%skip $IMPATIENCE\n",
    "clf = LinearSVC(\n",
    "    max_iter=20000,\n",
    "    random_state=42,\n",
    "    dual=False,\n",
    "    verbose=1\n",
    ").set_params(**resnet18_best_params)\n",
    "clf.fit(X_resnet50, y_resnet50)\n",
    "# save model\n",
    "from joblib import dump\n",
    "dump(clf, '../models/resnet50_svm.joblib')"
   ]
  },
  {
   "cell_type": "markdown",
   "metadata": {},
   "source": [
    "Load classifier from disk."
   ]
  },
  {
   "cell_type": "code",
   "execution_count": 33,
   "metadata": {},
   "outputs": [],
   "source": [
    "from joblib import load\n",
    "\n",
    "clf = load('../models/resnet50_svm.joblib')"
   ]
  },
  {
   "cell_type": "markdown",
   "metadata": {},
   "source": [
    "Load test set."
   ]
  },
  {
   "cell_type": "code",
   "execution_count": 34,
   "metadata": {},
   "outputs": [],
   "source": [
    "X_resnet50_test, y_resnet50_test = np.load('../data/X_resnet50_test.npy'), np.load('../data/y_resnet50_test.npy')"
   ]
  },
  {
   "cell_type": "markdown",
   "metadata": {},
   "source": [
    "We have observed that `SVM` built on top of `ResNet50` performed slightly better."
   ]
  },
  {
   "cell_type": "code",
   "execution_count": 35,
   "metadata": {},
   "outputs": [
    {
     "name": "stdout",
     "output_type": "stream",
     "text": [
      "Accuracy: 0.88401. Balanced accuracy: 0.86142\n",
      "Accuracy: 0.84500. Balanced accuracy: 0.84500\n"
     ]
    }
   ],
   "source": [
    "from sklearn.metrics import accuracy_score, balanced_accuracy_score\n",
    "\n",
    "for x_i, y_i in zip([X_resnet50, X_resnet50_test], [y_resnet50, y_resnet50_test]):\n",
    "    y_pred = clf.predict(x_i)\n",
    "    print('Accuracy: {acc:.5f}. Balanced accuracy: {bal_acc:.5f}'.format(\n",
    "        acc=accuracy_score(y_i, y_pred),\n",
    "        bal_acc=balanced_accuracy_score(y_i, y_pred)\n",
    "    ))"
   ]
  },
  {
   "cell_type": "code",
   "execution_count": 36,
   "metadata": {},
   "outputs": [
    {
     "data": {
      "image/png": "[encoded data removed]",
      "text/plain": [
       "<Figure size 720x720 with 1 Axes>"
      ]
     },
     "metadata": {
      "needs_background": "light"
     },
     "output_type": "display_data"
    }
   ],
   "source": [
    "from sklearn.metrics import confusion_matrix\n",
    "from tmle.visualizations import plot_confusion_matrix\n",
    "\n",
    "cm_test = confusion_matrix(y_true=y_resnet50_test, y_pred=clf.predict(X_resnet50_test))\n",
    "plot_confusion_matrix(cm_test)"
   ]
  },
  {
   "cell_type": "markdown",
   "metadata": {},
   "source": [
    "The next step may be to create a `XGBoost` classifier on top of feature vectors obtained from `ResNet50`. Selecting `XGBoost` can help to create a better model because:\n",
    "\n",
    "* its performance is strictly better than `sklearn`'s implementation of `SVM`. This will allow more experiments to be carried out and better parameters to be selected.\n",
    "* it may be hypothesized that the hierarchical representation of features derived from the model can lead to better representation of objects, e.g. interactions between features related to different parts of an object."
   ]
  },
  {
   "cell_type": "code",
   "execution_count": 37,
   "metadata": {},
   "outputs": [],
   "source": [
    "EXPERIMENT_NAME = 'resnet50_xgb'"
   ]
  },
  {
   "cell_type": "code",
   "execution_count": 38,
   "metadata": {},
   "outputs": [],
   "source": [
    "from xgboost import XGBClassifier\n",
    "\n",
    "space = dict()\n",
    "space['max_depth'] = hp.choice('max_depth', np.arange(2, 8, 1))\n",
    "space['learning_rate'] = hp.uniform('learning_rate', 0.001, 0.1)\n",
    "space['n_estimators'] = hp.choice('n_estimators', np.arange(50, 500, 50))\n",
    "space['min_child_weight'] = hp.choice('min_child_weights', [1, 5, 25])\n",
    "space['subsample'] = hp.uniform('subsample', 0.5, 1.)\n",
    "space['colsample_bytree'] = hp.uniform('colsample_bytree', 0.2, 0.85)\n",
    "space['colsample_bylevel'] = hp.uniform('colsample_bylevel', 0.2, 0.85)"
   ]
  },
  {
   "cell_type": "code",
   "execution_count": 39,
   "metadata": {},
   "outputs": [],
   "source": [
    "%%skip $IMPATIENCE\n",
    "clf_optim = ClassifierOptimizer(\n",
    "    classifier=XGBClassifier(n_jobs=-1, random_state=42, verbose=1),\n",
    "    space=space,\n",
    "    metric=balanced_accuracy_score\n",
    ")\n",
    "clf_optim.find_best_params(\n",
    "    X_resnet50,\n",
    "    y_resnet50,\n",
    "    experiments_path='../experiments/',\n",
    "    experiments_name=EXPERIMENT_NAME,\n",
    "    max_evals=1,\n",
    "    overfit_penalty=0.1\n",
    ")"
   ]
  },
  {
   "cell_type": "markdown",
   "metadata": {},
   "source": [
    "# Finetuning ResNet18\n",
    "\n",
    "In this part we have finetuned `ResNet18`. We have initialized a network with weights obtained on `ImageNet`."
   ]
  },
  {
   "cell_type": "markdown",
   "metadata": {},
   "source": [
    "## SGD\n",
    "\n",
    "We have used `SGD` with a mini-batch size of 32. The learning rate starts from 0.001 and was manually decresed when the values of loss functions begin to oscillate or the performance on test set plateaus. First training strategy could be describe in the following steps:\n",
    "\n",
    "* for first 5 epochs we have used `SGD` with learning rate set to `0.001`,\n",
    "* for the 5 consecutive epochs we used `SGD` with learning rate set to `0.00001` and momentum set to `0.9`,\n",
    "* for next 10 epochs we used `SGD` with very small learning rate (`0.000001`) and momentum set to `0.99`.\n",
    "\n",
    "We have decided to update learning rate every 5 epochs in order to use interesting relationship between *early stopping* and $L_{2}$ regularization.\n",
    "\n",
    "Below explanations comes from [here](https://www.deeplearningbook.org/contents/regularization.html):\n",
    "\n",
    "<img src=\"figures/early_stopping.png\" width=600>\n",
    "\n",
    "An illustration of the effect of early stopping. (Left) The solid contour lines indicate the contours of the negative log-likelihood. The dashed line indicates the trajectory taken by SGD beginning from the origin. Rather than stopping at the point $w^{*}$ that minimizes the cost, early stopping results in the trajectory stopping at an earlier point $\\hat{w}$. (Right) An illustration of the effect of $L^{2}$ regularization for comparison. The dashed circles indicate the contours of the $L^{2}$ penalty, which causes the minimum of the total cost to lie nearer the origin than the minimum of the unregularized cost.\n",
    "\n",
    "We used [`TransferLearning`](https://github.com/stasulam/tmle/blob/master/tmle/models.py#L15) from `tmle` which helps us in managing training process. Models were saved (as a checkpoints) on `Google Drive`."
   ]
  },
  {
   "cell_type": "code",
   "execution_count": 40,
   "metadata": {},
   "outputs": [],
   "source": [
    "import torch\n",
    "import torch.nn as nn\n",
    "import torch.optim as optim\n",
    "from torchvision import models\n",
    "from tmle.models import TransferLearning\n",
    "\n",
    "resnet18 = models.resnet18(pretrained=True)\n",
    "resnet18.fc = nn.Linear(resnet18.fc.in_features, 10)"
   ]
  },
  {
   "cell_type": "code",
   "execution_count": 41,
   "metadata": {},
   "outputs": [],
   "source": [
    "model = resnet18\n",
    "criterion = nn.CrossEntropyLoss()\n",
    "optimizer = optim.SGD(resnet18.parameters(), lr=0.001)"
   ]
  },
  {
   "cell_type": "code",
   "execution_count": 42,
   "metadata": {},
   "outputs": [],
   "source": [
    "train_dataset = ImageFoldersDataset(\n",
    "    path_to_data='../data/cpu/train/',\n",
    "    transform=basic_transforms\n",
    ")\n",
    "test_dataset = ImageFoldersDataset(\n",
    "    path_to_data='../data/cpu/test/',\n",
    "    transform=basic_transforms\n",
    ")"
   ]
  },
  {
   "cell_type": "markdown",
   "metadata": {},
   "source": [
    "We have defined manager which saves best model and store information about metrics."
   ]
  },
  {
   "cell_type": "code",
   "execution_count": 43,
   "metadata": {},
   "outputs": [],
   "source": [
    "manager_first_stage = TransferLearning(\n",
    "    experiments_path='../models/',\n",
    "    experiments_name='resnet18'\n",
    ")"
   ]
  },
  {
   "cell_type": "markdown",
   "metadata": {},
   "source": [
    "Run training loop."
   ]
  },
  {
   "cell_type": "code",
   "execution_count": 44,
   "metadata": {},
   "outputs": [],
   "source": [
    "%%skip $IMPATIENCE\n",
    "manager_first_stage.train(\n",
    "     model=resnet18,\n",
    "     criterion=criterion,\n",
    "     optimizer=optimizer,\n",
    "     train_dataset=train_dataset,\n",
    "     test_dataset=valid_dataset,\n",
    "     n_epochs=5,\n",
    "     batch_size=32,\n",
    "     shuffle=True\n",
    ")"
   ]
  },
  {
   "cell_type": "markdown",
   "metadata": {},
   "source": [
    "We saved results:\n",
    "\n",
    "```\n",
    "[1] train score: 0.650, test score: 0.751\n",
    "[2] train score: 0.780, test score: 0.790\n",
    "[3] train score: 0.802, test score: 0.740\n",
    "[4] train score: 0.802, test score: 0.755\n",
    "[5] train score: 0.880, test score: 0.780\n",
    "CPU times: user 24min 52s, sys: 7min 52s, total: 32min 44s\n",
    "Wall time: 1h 55min 28s\n",
    "```"
   ]
  },
  {
   "cell_type": "markdown",
   "metadata": {},
   "source": [
    "Then, we initialized the class of the model and modified the optimizer."
   ]
  },
  {
   "cell_type": "code",
   "execution_count": 45,
   "metadata": {},
   "outputs": [],
   "source": [
    "model = resnet18\n",
    "optimizer = optim.SGD(\n",
    "    model.parameters(),\n",
    "    lr=0.00001,\n",
    "    momentum=0.9\n",
    ")"
   ]
  },
  {
   "cell_type": "markdown",
   "metadata": {},
   "source": [
    "Load checkpoint from disk."
   ]
  },
  {
   "cell_type": "code",
   "execution_count": 46,
   "metadata": {},
   "outputs": [],
   "source": [
    "checkpoint = torch.load('../models/resnet18.pth', map_location='cpu')"
   ]
  },
  {
   "cell_type": "markdown",
   "metadata": {},
   "source": [
    "Load states from checkpoint."
   ]
  },
  {
   "cell_type": "code",
   "execution_count": 47,
   "metadata": {},
   "outputs": [],
   "source": [
    "model.load_state_dict(checkpoint['model_state_dict'])\n",
    "optimizer.load_state_dict(checkpoint['optimizer_state_dict'])"
   ]
  },
  {
   "cell_type": "markdown",
   "metadata": {},
   "source": [
    "Then, we defined training manager for second stage of training procedure."
   ]
  },
  {
   "cell_type": "code",
   "execution_count": 48,
   "metadata": {},
   "outputs": [],
   "source": [
    "manager_second_stage = TransferLearning(\n",
    "    experiments_path='../models/',\n",
    "    experiments_name='resnet18_5_10_epoch'\n",
    ")"
   ]
  },
  {
   "cell_type": "markdown",
   "metadata": {},
   "source": [
    "Run training loop."
   ]
  },
  {
   "cell_type": "code",
   "execution_count": 49,
   "metadata": {},
   "outputs": [],
   "source": [
    "%%skip $IMPATIENCE\n",
    "manager_second_stage.train(\n",
    "     model=model,\n",
    "     criterion=criterion,\n",
    "     optimizer=optimizer,\n",
    "     train_dataset=train_dataset,\n",
    "     test_dataset=valid_dataset,\n",
    "     n_epochs=5,\n",
    "     batch_size=32,\n",
    "     shuffle=True\n",
    ")"
   ]
  },
  {
   "cell_type": "markdown",
   "metadata": {},
   "source": [
    "We saved results:\n",
    "    \n",
    "```\n",
    "[1] train score: 0.802, test score: 0.755\n",
    "[2] train score: 0.802, test score: 0.755\n",
    "[3] train score: 0.880, test score: 0.780\n",
    "[4] train score: 0.880, test score: 0.794\n",
    "[5] train score: 0.880, test score: 0.844\n",
    "CPU times: user 24min 2s, sys: 7min 42s, total: 31min 44s\n",
    "Wall time: 35min 35s\n",
    "```"
   ]
  },
  {
   "cell_type": "markdown",
   "metadata": {},
   "source": [
    "Then, we initialized model and optimizer with different parameters."
   ]
  },
  {
   "cell_type": "code",
   "execution_count": 50,
   "metadata": {},
   "outputs": [],
   "source": [
    "model = resnet18\n",
    "optimizer = optim.SGD(\n",
    "    model.parameters(),\n",
    "    lr=0.000001,\n",
    "    momentum=0.99\n",
    ")"
   ]
  },
  {
   "cell_type": "markdown",
   "metadata": {},
   "source": [
    "Load checkpoint from disk."
   ]
  },
  {
   "cell_type": "code",
   "execution_count": 51,
   "metadata": {},
   "outputs": [],
   "source": [
    "checkpoint = torch.load('../models/resnet18_5_10_epoch.pth', map_location='cpu')"
   ]
  },
  {
   "cell_type": "markdown",
   "metadata": {},
   "source": [
    "Load states from checkpoint."
   ]
  },
  {
   "cell_type": "code",
   "execution_count": 52,
   "metadata": {},
   "outputs": [],
   "source": [
    "model.load_state_dict(checkpoint['model_state_dict'])\n",
    "optimizer.load_state_dict(checkpoint['optimizer_state_dict'])"
   ]
  },
  {
   "cell_type": "markdown",
   "metadata": {},
   "source": [
    "Then, we defined training manager for third stage of training procedure."
   ]
  },
  {
   "cell_type": "code",
   "execution_count": 53,
   "metadata": {},
   "outputs": [],
   "source": [
    "manager_third_stage = TransferLearning(\n",
    "    experiments_path='../models/',\n",
    "    experiments_name='resnet18_10_20_epoch'\n",
    ")"
   ]
  },
  {
   "cell_type": "markdown",
   "metadata": {},
   "source": [
    "Run training loop."
   ]
  },
  {
   "cell_type": "code",
   "execution_count": 54,
   "metadata": {},
   "outputs": [],
   "source": [
    "%%skip $IMPATIENCE\n",
    "manager_third_stage.train(\n",
    "     model=model,\n",
    "     criterion=criterion,\n",
    "     optimizer=optimizer,\n",
    "     train_dataset=train_dataset,\n",
    "     test_dataset=valid_dataset,\n",
    "     n_epochs=10,\n",
    "     batch_size=32,\n",
    "     shuffle=True\n",
    ")"
   ]
  },
  {
   "cell_type": "markdown",
   "metadata": {},
   "source": [
    "We saved results:\n",
    "\n",
    "```\n",
    "[1] train score: 0.907, test score: 0.869\n",
    "[2] train score: 0.907, test score: 0.869\n",
    "[3] train score: 0.907, test score: 0.869\n",
    "[4] train score: 0.907, test score: 0.869\n",
    "[5] train score: 0.907, test score: 0.869\n",
    "[6] train score: 0.907, test score: 0.894\n",
    "[7] train score: 0.907, test score: 0.894\n",
    "[8] train score: 0.907, test score: 0.894\n",
    "[9] train score: 0.907, test score: 0.894\n",
    "[10] train score: 0.963, test score: 0.894\n",
    "CPU times: user 52min 26s, sys: 15min 57s, total: 1h 8min 23s\n",
    "Wall time: 2h 11min 59s\n",
    "```"
   ]
  },
  {
   "cell_type": "code",
   "execution_count": 55,
   "metadata": {},
   "outputs": [],
   "source": [
    "checkpoint = torch.load('../models/resnet18_10_20_epoch.pth', map_location='cpu')\n",
    "model = resnet18\n",
    "model.load_state_dict(checkpoint['model_state_dict'])"
   ]
  },
  {
   "cell_type": "markdown",
   "metadata": {},
   "source": [
    "## AdaBound\n",
    "\n",
    "Authors claimed that: *[AdaBound is] An optimizer that trains as fast as Adam and as good as SGD, for developing state-of-the-art deep learning models on a wide variety of popular tasks in the field of CV, NLP, and etc*. Let's check."
   ]
  },
  {
   "cell_type": "code",
   "execution_count": 56,
   "metadata": {},
   "outputs": [],
   "source": [
    "import torch\n",
    "import torch.nn as nn\n",
    "import torch.optim as optim\n",
    "import adabound\n",
    "from torchvision import transforms, models\n",
    "from tmle.dataloaders import ImageFoldersDataset\n",
    "\n",
    "resnet18 = models.resnet18(pretrained=True)\n",
    "resnet18.fc = nn.Linear(resnet18.fc.in_features, 10)"
   ]
  },
  {
   "cell_type": "markdown",
   "metadata": {},
   "source": [
    "We have used default values of parameters provided by the authors."
   ]
  },
  {
   "cell_type": "code",
   "execution_count": 57,
   "metadata": {},
   "outputs": [],
   "source": [
    "model = resnet18\n",
    "criterion = nn.CrossEntropyLoss()\n",
    "optimizer = adabound.AdaBound(\n",
    "    model.parameters(),\n",
    "    lr=0.001,\n",
    "    final_lr=0.1\n",
    ")"
   ]
  },
  {
   "cell_type": "markdown",
   "metadata": {},
   "source": [
    "Prepare images."
   ]
  },
  {
   "cell_type": "code",
   "execution_count": 58,
   "metadata": {},
   "outputs": [],
   "source": [
    "basic_transforms = transforms.Compose([\n",
    "    transforms.Resize(256),\n",
    "    transforms.RandomCrop(224),\n",
    "    transforms.ToTensor(),\n",
    "    transforms.Normalize(\n",
    "        mean=[0.5, 0.5, 0.5],\n",
    "        std=[0.5, 0.5, 0.5]\n",
    "    )\n",
    "])\n",
    "\n",
    "train_dataset = ImageFoldersDataset(\n",
    "    path_to_data='../data/cpu/train/',\n",
    "    transform=basic_transforms\n",
    ")\n",
    "test_dataset = ImageFoldersDataset(\n",
    "    path_to_data='../data/cpu/test/',\n",
    "    transform=basic_transforms\n",
    ")"
   ]
  },
  {
   "cell_type": "markdown",
   "metadata": {},
   "source": [
    "Run training loop."
   ]
  },
  {
   "cell_type": "code",
   "execution_count": 59,
   "metadata": {},
   "outputs": [],
   "source": [
    "%%skip $IMPATIENCE\n",
    "manager_first_stage = TransferLearning(\n",
    "    experiments_path='../models/',\n",
    "    experiments_name='resnet18_adabound'\n",
    ")\n",
    "\n",
    "manager_first_stage.train(\n",
    "    model=model,\n",
    "    criterion=criterion,\n",
    "    optimizer=optimizer,\n",
    "    train_dataset=train_dataset,\n",
    "    test_dataset=test_dataset,\n",
    "    n_epochs=10,\n",
    "    batch_size=32,\n",
    "    shuffle=True\n",
    ")"
   ]
  },
  {
   "cell_type": "markdown",
   "metadata": {},
   "source": [
    "We saved results:\n",
    "\n",
    "```\n",
    "[1] train score: 0.765, test score: 0.811\n",
    "[2] train score: 0.907, test score: 0.830\n",
    "[3] train score: 0.963, test score: 0.744\n",
    "[4] train score: 0.907, test score: 0.844\n",
    "[5] train score: 1.000, test score: 0.744\n",
    "[6] train score: 0.963, test score: 0.830\n",
    "[7] train score: 1.000, test score: 0.863\n",
    "[8] train score: 0.963, test score: 0.819\n",
    "[9] train score: 1.000, test score: 0.780\n",
    "[10] train score: 1.000, test score: 0.863\n",
    "```\n",
    "\n",
    "We have observed that the optimizer was overshooting local minima. Possibly, parameters of the optimizer should be modified."
   ]
  }
 ],
 "metadata": {
  "kernelspec": {
   "display_name": "tmle",
   "language": "python",
   "name": "tmle"
  },
  "language_info": {
   "codemirror_mode": {
    "name": "ipython",
    "version": 3
   },
   "file_extension": ".py",
   "mimetype": "text/x-python",
   "name": "python",
   "nbconvert_exporter": "python",
   "pygments_lexer": "ipython3",
   "version": "3.6.8"
  }
 },
 "nbformat": 4,
 "nbformat_minor": 2
}
