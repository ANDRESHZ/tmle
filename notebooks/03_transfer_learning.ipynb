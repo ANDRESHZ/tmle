{
 "cells": [
  {
   "cell_type": "code",
   "execution_count": 1,
   "metadata": {},
   "outputs": [],
   "source": [
    "import os\n",
    "import numpy as np\n",
    "import matplotlib.pyplot as plt"
   ]
  },
  {
   "cell_type": "code",
   "execution_count": 2,
   "metadata": {},
   "outputs": [],
   "source": [
    "%load_ext skip_cell"
   ]
  },
  {
   "cell_type": "code",
   "execution_count": 3,
   "metadata": {},
   "outputs": [],
   "source": [
    "%load_ext autoreload\n",
    "%autoreload 2"
   ]
  },
  {
   "cell_type": "code",
   "execution_count": 4,
   "metadata": {},
   "outputs": [],
   "source": [
    "IMPATIENCE = True"
   ]
  },
  {
   "cell_type": "markdown",
   "metadata": {},
   "source": [
    "# Extracting features from CNN"
   ]
  },
  {
   "cell_type": "markdown",
   "metadata": {},
   "source": [
    "We perform transformations that results in images of sizes `(224, 224, 3)`."
   ]
  },
  {
   "cell_type": "code",
   "execution_count": 5,
   "metadata": {},
   "outputs": [],
   "source": [
    "from torchvision import transforms\n",
    "from tmle.dataloaders import ImageFoldersDataset\n",
    "\n",
    "# define transformations\n",
    "basic_transforms = transforms.Compose([\n",
    "    transforms.Resize(256),\n",
    "    transforms.RandomCrop(224),\n",
    "    transforms.ToTensor(),\n",
    "    transforms.Normalize(\n",
    "        mean=[0.5, 0.5, 0.5],\n",
    "        std=[0.5, 0.5, 0.5]\n",
    "    )\n",
    "])\n",
    "# define dataset\n",
    "train_dataset = ImageFoldersDataset(\n",
    "    path_to_data='../data/cpu/train/',\n",
    "    transform=basic_transforms\n",
    ")\n",
    "test_dataset = ImageFoldersDataset(\n",
    "    path_to_data='../data/cpu/test/',\n",
    "    transform=basic_transforms\n",
    ")"
   ]
  },
  {
   "cell_type": "markdown",
   "metadata": {},
   "source": [
    "Then, we download `ResNet18` with weights pretrained on `ImageNet`."
   ]
  },
  {
   "cell_type": "code",
   "execution_count": 6,
   "metadata": {},
   "outputs": [],
   "source": [
    "%%skip $IMPATIENCE\n",
    "from torchvision import models\n",
    "from tmle.transformers import CNNFeatures\n",
    "\n",
    "resnet18 = models.resnet18(pretrained=True)\n",
    "resnet18_features_extractos = CNNFeatures(\n",
    "    n_features=512, # what will be a dimension of feature vector\n",
    "    rm_top_layers=1 # how many top layers will be removed\n",
    ")\n",
    "X_resnet18, y_resnet18 = resnet18_features_extractor.extract_features(\n",
    "    model=resnet18,\n",
    "    dataset=train_dataset\n",
    ")"
   ]
  },
  {
   "cell_type": "markdown",
   "metadata": {},
   "source": [
    "We prepare features for both: train and test sets."
   ]
  },
  {
   "cell_type": "code",
   "execution_count": 7,
   "metadata": {},
   "outputs": [],
   "source": [
    "%%skip $IMPATIENCE\n",
    "from tmle.transformers import CNNFeatures\n",
    "\n",
    "resnet18_features = CNNFeatures(\n",
    "    n_features=512, # in final layer\n",
    "    rm_top_layers=1) # how many top layers will be removed\n",
    "\n",
    "X_resnet18, y_resnet18 = resnet18_features.extract_features(\n",
    "    resnet18, train_dataset)\n",
    "X_resnet18_test, y_resnet18_test = resnet18_features.extract_features(\n",
    "    resnet18, test_dataset)"
   ]
  },
  {
   "cell_type": "markdown",
   "metadata": {},
   "source": [
    "## ResNet18"
   ]
  },
  {
   "cell_type": "code",
   "execution_count": 8,
   "metadata": {},
   "outputs": [],
   "source": [
    "EXPERIMENT_NAME = 'resnet18_svm_v2'"
   ]
  },
  {
   "cell_type": "code",
   "execution_count": 9,
   "metadata": {},
   "outputs": [],
   "source": [
    "X_resnet18, y_resnet18 = np.load('../data/X_resnet18.npy'), np.load('../data/y_resnet18.npy')"
   ]
  },
  {
   "cell_type": "markdown",
   "metadata": {},
   "source": [
    "## Hyperparameters tuning"
   ]
  },
  {
   "cell_type": "code",
   "execution_count": 11,
   "metadata": {},
   "outputs": [],
   "source": [
    "import hyperopt\n",
    "from hyperopt import tpe, fmin, hp, Trials, STATUS_OK\n",
    "\n",
    "space = dict()\n",
    "space['penalty'] = hp.choice('penalty', ['l1', 'l2'])\n",
    "space['class_weight'] = hp.choice('class_weight', [None, 'balanced'])\n",
    "space['C'] = hp.uniform('C', 0.0001, 0.1)"
   ]
  },
  {
   "cell_type": "code",
   "execution_count": 12,
   "metadata": {},
   "outputs": [],
   "source": [
    "from tmle.model_selection import ClassifierOptimizer\n",
    "from sklearn.svm import LinearSVC\n",
    "from sklearn.metrics import balanced_accuracy_score\n",
    "\n",
    "clf_optim = ClassifierOptimizer(\n",
    "    classifier=LinearSVC(\n",
    "        max_iter=20000,\n",
    "        random_state=42,\n",
    "        dual=False,\n",
    "        verbose=1\n",
    "    ),\n",
    "    space=space,\n",
    "    metric=balanced_accuracy_score\n",
    ")"
   ]
  },
  {
   "cell_type": "code",
   "execution_count": 13,
   "metadata": {},
   "outputs": [],
   "source": [
    "%%skip $IMPATIENCE\n",
    "import warnings\n",
    "warnings.filterwarnings(\"ignore\")\n",
    "\n",
    "clf_optim.find_best_params(\n",
    "    X_resnet18,\n",
    "    y_resnet18,\n",
    "    experiments_path='../experiments/',\n",
    "    experiments_name=EXPERIMENT_NAME,\n",
    "    max_evals=10,\n",
    "    overfit_penalty=0.1\n",
    ")"
   ]
  },
  {
   "cell_type": "markdown",
   "metadata": {},
   "source": [
    "Import and examine results of experiments."
   ]
  },
  {
   "cell_type": "code",
   "execution_count": 14,
   "metadata": {},
   "outputs": [],
   "source": [
    "import pickle\n",
    "\n",
    "trials_path = os.path.join('../experiments/', 'resnet18_svm.hpopt')\n",
    "with open(trials_path, 'rb') as trials:\n",
    "    trials = pickle.load(trials)"
   ]
  },
  {
   "cell_type": "markdown",
   "metadata": {},
   "source": [
    "Evaluate hyperparameters space."
   ]
  },
  {
   "cell_type": "code",
   "execution_count": 15,
   "metadata": {},
   "outputs": [],
   "source": [
    "experiments = clf_optim.evaluate_experiments(trials.trials)\\\n",
    "    .fillna(value='None')\\\n",
    "    .assign(train_valid_diff = lambda x: x.train - x.valid)"
   ]
  },
  {
   "cell_type": "code",
   "execution_count": 16,
   "metadata": {},
   "outputs": [
    {
     "data": {
      "text/plain": [
       "<matplotlib.axes._subplots.AxesSubplot at 0x12d2f7588>"
      ]
     },
     "execution_count": 16,
     "metadata": {},
     "output_type": "execute_result"
    },
    {
     "data": {
      "image/png": "[encoded data removed]",
      "text/plain": [
       "<Figure size 1296x432 with 3 Axes>"
      ]
     },
     "metadata": {
      "needs_background": "light"
     },
     "output_type": "display_data"
    }
   ],
   "source": [
    "import matplotlib.pyplot as plt\n",
    "import seaborn as sns\n",
    "%matplotlib inline\n",
    "\n",
    "f, ax = plt.subplots(figsize=(18, 6), ncols=3)\n",
    "sns.scatterplot(x='C', y='train', data=experiments, ax=ax[0])\n",
    "sns.violinplot(x='penalty', y='train', data=experiments, ax=ax[1])\n",
    "sns.violinplot(x='class_weight', y='train', data=experiments, ax=ax[2])"
   ]
  },
  {
   "cell_type": "code",
   "execution_count": 17,
   "metadata": {},
   "outputs": [
    {
     "data": {
      "text/plain": [
       "<matplotlib.axes._subplots.AxesSubplot at 0x12f818390>"
      ]
     },
     "execution_count": 17,
     "metadata": {},
     "output_type": "execute_result"
    },
    {
     "data": {
      "image/png": "[encoded data removed]",
      "text/plain": [
       "<Figure size 1296x432 with 3 Axes>"
      ]
     },
     "metadata": {
      "needs_background": "light"
     },
     "output_type": "display_data"
    }
   ],
   "source": [
    "import matplotlib.pyplot as plt\n",
    "import seaborn as sns\n",
    "%matplotlib inline\n",
    "\n",
    "f, ax = plt.subplots(figsize=(18, 6), ncols=3)\n",
    "sns.scatterplot(x='C', y='valid', data=experiments, ax=ax[0])\n",
    "sns.violinplot(x='penalty', y='valid', data=experiments, ax=ax[1])\n",
    "sns.violinplot(x='class_weight', y='valid', data=experiments, ax=ax[2])"
   ]
  },
  {
   "cell_type": "code",
   "execution_count": 18,
   "metadata": {},
   "outputs": [
    {
     "data": {
      "text/plain": [
       "<matplotlib.axes._subplots.AxesSubplot at 0x12fab61d0>"
      ]
     },
     "execution_count": 18,
     "metadata": {},
     "output_type": "execute_result"
    },
    {
     "data": {
      "image/png": "[encoded data removed]",
      "text/plain": [
       "<Figure size 1296x432 with 3 Axes>"
      ]
     },
     "metadata": {
      "needs_background": "light"
     },
     "output_type": "display_data"
    }
   ],
   "source": [
    "import matplotlib.pyplot as plt\n",
    "import seaborn as sns\n",
    "%matplotlib inline\n",
    "\n",
    "f, ax = plt.subplots(figsize=(18, 6), ncols=3)\n",
    "sns.scatterplot(x='C', y='train_valid_diff', data=experiments, ax=ax[0])\n",
    "sns.violinplot(x='penalty', y='train_valid_diff', data=experiments, ax=ax[1])\n",
    "sns.violinplot(x='class_weight', y='train_valid_diff', data=experiments, ax=ax[2])"
   ]
  },
  {
   "cell_type": "markdown",
   "metadata": {},
   "source": [
    "Best subset of parameters."
   ]
  },
  {
   "cell_type": "code",
   "execution_count": 19,
   "metadata": {},
   "outputs": [],
   "source": [
    "resnet18_best_params = clf_optim.space_eval(trials.best_trial)"
   ]
  },
  {
   "cell_type": "code",
   "execution_count": 20,
   "metadata": {},
   "outputs": [
    {
     "name": "stdout",
     "output_type": "stream",
     "text": [
      "[LibLinear]CPU times: user 6min 59s, sys: 2.8 s, total: 7min 2s\n",
      "Wall time: 7min 29s\n"
     ]
    }
   ],
   "source": [
    "%%time\n",
    "clf = LinearSVC(\n",
    "    max_iter=20000,\n",
    "    random_state=42,\n",
    "    dual=False,\n",
    "    verbose=1\n",
    ").set_params(**resnet18_best_params)\n",
    "clf.fit(X_resnet18, y_resnet18)"
   ]
  },
  {
   "cell_type": "code",
   "execution_count": 21,
   "metadata": {},
   "outputs": [],
   "source": [
    "X_resnet18_test, y_resnet18_test = np.load('../data/X_resnet18_test.npy'), np.load('../data/y_resnet18_test.npy')"
   ]
  },
  {
   "cell_type": "code",
   "execution_count": 22,
   "metadata": {},
   "outputs": [
    {
     "name": "stdout",
     "output_type": "stream",
     "text": [
      "Accuracy: 0.85285. Balanced accuracy: 0.82905\n",
      "Accuracy: 0.80200. Balanced accuracy: 0.80200\n"
     ]
    }
   ],
   "source": [
    "from sklearn.metrics import accuracy_score, balanced_accuracy_score\n",
    "\n",
    "for x_i, y_i in zip([X_resnet18, X_resnet18_test], [y_resnet18, y_resnet18_test]):\n",
    "    y_pred = clf.predict(x_i)\n",
    "    print('Accuracy: {acc:.5f}. Balanced accuracy: {bal_acc:.5f}'.format(\n",
    "        acc=accuracy_score(y_i, y_pred),\n",
    "        bal_acc=balanced_accuracy_score(y_i, y_pred)\n",
    "    ))"
   ]
  },
  {
   "cell_type": "markdown",
   "metadata": {},
   "source": [
    "# ResNet50"
   ]
  },
  {
   "cell_type": "code",
   "execution_count": 26,
   "metadata": {},
   "outputs": [],
   "source": [
    "EXPERIMENT_NAME = 'resnet50_svm'"
   ]
  },
  {
   "cell_type": "code",
   "execution_count": 27,
   "metadata": {},
   "outputs": [],
   "source": [
    "X_resnet50, y_resnet50 = np.load('../data/X_resnet50.npy'), np.load('../data/y_resnet18.npy')"
   ]
  },
  {
   "cell_type": "code",
   "execution_count": 28,
   "metadata": {},
   "outputs": [],
   "source": [
    "import hyperopt\n",
    "from hyperopt import tpe, fmin, hp, Trials, STATUS_OK\n",
    "\n",
    "space = dict()\n",
    "space['penalty'] = hp.choice('penalty', ['l1', 'l2'])\n",
    "space['class_weight'] = hp.choice('class_weight', [None, 'balanced'])\n",
    "space['C'] = hp.uniform('C', 0.0001, 0.1)"
   ]
  },
  {
   "cell_type": "code",
   "execution_count": 29,
   "metadata": {},
   "outputs": [],
   "source": [
    "%%skip $IMPATIENCE\n",
    "import warnings\n",
    "warnings.filterwarnings(\"ignore\")\n",
    "from tmle.model_selection import ClassifierOptimizer\n",
    "from sklearn.svm import LinearSVC\n",
    "from sklearn.metrics import balanced_accuracy_score\n",
    "\n",
    "clf_optim = ClassifierOptimizer(\n",
    "    classifier=LinearSVC(max_iter=20000, random_state=42, verbose=1, dual=False),\n",
    "    space=space,\n",
    "    metric=balanced_accuracy_score\n",
    ")\n",
    "clf_optim.find_best_params(\n",
    "    X_resnet50,\n",
    "    y_resnet50,\n",
    "    experiments_path='../experiments/',\n",
    "    experiments_name=EXPERIMENT_NAME,\n",
    "    max_evals=50,\n",
    "    overfit_penalty=0.1\n",
    ")"
   ]
  },
  {
   "cell_type": "code",
   "execution_count": 30,
   "metadata": {},
   "outputs": [
    {
     "name": "stdout",
     "output_type": "stream",
     "text": [
      "[LibLinear]CPU times: user 11min 56s, sys: 7.36 s, total: 12min 4s\n",
      "Wall time: 12min 49s\n"
     ]
    }
   ],
   "source": [
    "%%time\n",
    "clf = LinearSVC(\n",
    "    max_iter=20000,\n",
    "    random_state=42,\n",
    "    dual=False,\n",
    "    verbose=1\n",
    ").set_params(**resnet18_best_params)\n",
    "clf.fit(X_resnet50, y_resnet50)"
   ]
  },
  {
   "cell_type": "code",
   "execution_count": 31,
   "metadata": {},
   "outputs": [],
   "source": [
    "X_resnet50_test, y_resnet50_test = np.load('../data/X_resnet50_test.npy'), np.load('../data/y_resnet50_test.npy')"
   ]
  },
  {
   "cell_type": "code",
   "execution_count": 32,
   "metadata": {},
   "outputs": [
    {
     "name": "stdout",
     "output_type": "stream",
     "text": [
      "Accuracy: 0.88401. Balanced accuracy: 0.86142\n",
      "Accuracy: 0.84500. Balanced accuracy: 0.84500\n"
     ]
    }
   ],
   "source": [
    "from sklearn.metrics import accuracy_score, balanced_accuracy_score\n",
    "\n",
    "for x_i, y_i in zip([X_resnet50, X_resnet50_test], [y_resnet50, y_resnet50_test]):\n",
    "    y_pred = clf.predict(x_i)\n",
    "    print('Accuracy: {acc:.5f}. Balanced accuracy: {bal_acc:.5f}'.format(\n",
    "        acc=accuracy_score(y_i, y_pred),\n",
    "        bal_acc=balanced_accuracy_score(y_i, y_pred)\n",
    "    ))"
   ]
  },
  {
   "cell_type": "markdown",
   "metadata": {},
   "source": [
    "XGBoost on ResNet50."
   ]
  },
  {
   "cell_type": "code",
   "execution_count": 33,
   "metadata": {},
   "outputs": [],
   "source": [
    "EXPERIMENT_NAME = 'resnet50_xgb'"
   ]
  },
  {
   "cell_type": "code",
   "execution_count": 34,
   "metadata": {},
   "outputs": [],
   "source": [
    "from xgboost import XGBClassifier\n",
    "\n",
    "space = dict()\n",
    "space['max_depth'] = hp.choice('max_depth', np.arange(2, 8, 1))\n",
    "space['learning_rate'] = hp.uniform('learning_rate', 0.001, 0.1)\n",
    "space['n_estimators'] = hp.choice('n_estimators', np.arange(50, 500, 50))\n",
    "space['min_child_weight'] = hp.choice('min_child_weights', [1, 5, 25])\n",
    "space['subsample'] = hp.uniform('subsample', 0.5, 1.)\n",
    "space['colsample_bytree'] = hp.uniform('colsample_bytree', 0.2, 0.85)\n",
    "space['colsample_bylevel'] = hp.uniform('colsample_bylevel', 0.2, 0.85)"
   ]
  },
  {
   "cell_type": "code",
   "execution_count": 35,
   "metadata": {},
   "outputs": [
    {
     "ename": "SyntaxError",
     "evalue": "invalid syntax (<string>, line 1)",
     "output_type": "error",
     "traceback": [
      "Traceback \u001b[0;36m(most recent call last)\u001b[0m:\n",
      "  File \u001b[1;32m\"/Users/lukaszambroziak/anaconda3/envs/tmle/lib/python3.6/site-packages/IPython/core/interactiveshell.py\"\u001b[0m, line \u001b[1;32m3291\u001b[0m, in \u001b[1;35mrun_code\u001b[0m\n    exec(code_obj, self.user_global_ns, self.user_ns)\n",
      "  File \u001b[1;32m\"<ipython-input-35-90de80b5d7f1>\"\u001b[0m, line \u001b[1;32m1\u001b[0m, in \u001b[1;35m<module>\u001b[0m\n    get_ipython().run_cell_magic('skip', '%IMPATIENCE', \"clf_optim = ClassifierOptimizer(\\n    classifier=XGBClassifier(n_jobs=-1, random_state=42, verbose=1),\\n    space=space,\\n    metric=balanced_accuracy_score\\n)\\nclf_optim.find_best_params(\\n    X_resnet50,\\n    y_resnet50,\\n    experiments_path='../experiments/',\\n    experiments_name=EXPERIMENT_NAME,\\n    max_evals=1,\\n    overfit_penalty=0.1\\n)\\n\")\n",
      "  File \u001b[1;32m\"/Users/lukaszambroziak/anaconda3/envs/tmle/lib/python3.6/site-packages/IPython/core/interactiveshell.py\"\u001b[0m, line \u001b[1;32m2347\u001b[0m, in \u001b[1;35mrun_cell_magic\u001b[0m\n    result = fn(magic_arg_s, cell)\n",
      "\u001b[0;36m  File \u001b[0;32m\"/Users/lukaszambroziak/Documents/tmle/notebooks/skip_cell.py\"\u001b[0;36m, line \u001b[0;32m3\u001b[0;36m, in \u001b[0;35mskip\u001b[0;36m\u001b[0m\n\u001b[0;31m    if eval(line):\u001b[0m\n",
      "\u001b[0;36m  File \u001b[0;32m\"<string>\"\u001b[0;36m, line \u001b[0;32m1\u001b[0m\n\u001b[0;31m    %IMPATIENCE\u001b[0m\n\u001b[0m    ^\u001b[0m\n\u001b[0;31mSyntaxError\u001b[0m\u001b[0;31m:\u001b[0m invalid syntax\n"
     ]
    }
   ],
   "source": [
    "%%skip %IMPATIENCE\n",
    "clf_optim = ClassifierOptimizer(\n",
    "    classifier=XGBClassifier(n_jobs=-1, random_state=42, verbose=1),\n",
    "    space=space,\n",
    "    metric=balanced_accuracy_score\n",
    ")\n",
    "clf_optim.find_best_params(\n",
    "    X_resnet50,\n",
    "    y_resnet50,\n",
    "    experiments_path='../experiments/',\n",
    "    experiments_name=EXPERIMENT_NAME,\n",
    "    max_evals=1,\n",
    "    overfit_penalty=0.1\n",
    ")"
   ]
  },
  {
   "cell_type": "markdown",
   "metadata": {},
   "source": [
    "# ResNet18 Finetuning"
   ]
  },
  {
   "cell_type": "code",
   "execution_count": null,
   "metadata": {},
   "outputs": [],
   "source": [
    "from tmle.models import TransferLearning"
   ]
  },
  {
   "cell_type": "code",
   "execution_count": null,
   "metadata": {},
   "outputs": [],
   "source": [
    "from torchvision import models\n",
    "\n",
    "resnet50 = models.resnet50(pretrained=True)\n",
    "resnet50.fc = nn.Linear(resnet50.fc.in_features, 10)\n",
    "\n",
    "resnet18 = models.resnet18(pretrained=True)\n",
    "resnet18.fc = nn.Linear(resnet18.fc.in_features, 10)"
   ]
  },
  {
   "cell_type": "code",
   "execution_count": null,
   "metadata": {},
   "outputs": [],
   "source": [
    "criterion = nn.CrossEntropyLoss()\n",
    "optimizer = optim.SGD(resnet18.parameters(), lr=0.001)"
   ]
  },
  {
   "cell_type": "code",
   "execution_count": null,
   "metadata": {},
   "outputs": [],
   "source": [
    "train_dataset = ImageFoldersDataset(\n",
    "    path_to_data='/content/gdrive/My Drive/Colab Notebooks/cpu/train/',\n",
    "    transform=basic_transforms\n",
    ")\n",
    "test_dataset = ImageFoldersDataset(\n",
    "    path_to_data='/content/gdrive/My Drive/Colab Notebooks/cpu/test/',\n",
    "    transform=basic_transforms\n",
    ")"
   ]
  },
  {
   "cell_type": "code",
   "execution_count": null,
   "metadata": {},
   "outputs": [],
   "source": [
    "tl_manager = TransferLearning(\n",
    "    experiments_path='/content/gdrive/My Drive/Colab Notebooks/',\n",
    "    experiments_name='resnet18_v3'\n",
    ")"
   ]
  },
  {
   "cell_type": "code",
   "execution_count": null,
   "metadata": {},
   "outputs": [],
   "source": [
    "%%skip $IMPATIENCE\n",
    "tl_manager.train(\n",
    "     model=resnet18,\n",
    "     criterion=criterion,\n",
    "     optimizer=optimizer,\n",
    "     train_dataset=train_dataset,\n",
    "     test_dataset=valid_dataset,\n",
    "     n_epochs=5,\n",
    "     batch_size=32,\n",
    "     shuffle=True\n",
    ")"
   ]
  },
  {
   "cell_type": "code",
   "execution_count": null,
   "metadata": {},
   "outputs": [],
   "source": [
    "model = resnet18\n",
    "optimizer = optim.SGD(model.parameters(), lr=0.00001, momentum=0.9)"
   ]
  },
  {
   "cell_type": "code",
   "execution_count": null,
   "metadata": {},
   "outputs": [],
   "source": [
    "checkpoint = torch.load('/content/gdrive/My Drive/Colab Notebooks/resnet18_v3.pth')"
   ]
  },
  {
   "cell_type": "code",
   "execution_count": null,
   "metadata": {},
   "outputs": [],
   "source": [
    "model.load_state_dict(checkpoint['model_state_dict'])\n",
    "optimizer.load_state_dict(checkpoint['optimizer_state_dict'])"
   ]
  },
  {
   "cell_type": "code",
   "execution_count": null,
   "metadata": {},
   "outputs": [],
   "source": [
    "tl_manager_finetuning = TransferLearning(\n",
    "    experiments_path='/content/gdrive/My Drive/Colab Notebooks/',\n",
    "    experiments_name='resnet18_5_10_epoch_v3'\n",
    ")"
   ]
  },
  {
   "cell_type": "code",
   "execution_count": null,
   "metadata": {},
   "outputs": [],
   "source": [
    "%%skip $IMPATIENCE\n",
    "tl_manager_finetuning.train(\n",
    "     model=model,\n",
    "     criterion=criterion,\n",
    "     optimizer=optimizer,\n",
    "     train_dataset=train_dataset,\n",
    "     test_dataset=valid_dataset,\n",
    "     n_epochs=5,\n",
    "     batch_size=32,\n",
    "     shuffle=True\n",
    ")"
   ]
  },
  {
   "cell_type": "code",
   "execution_count": null,
   "metadata": {},
   "outputs": [],
   "source": [
    "model = resnet18\n",
    "optimizer = optim.SGD(model.parameters(), lr=0.000001, momentum=0.99)"
   ]
  },
  {
   "cell_type": "code",
   "execution_count": null,
   "metadata": {},
   "outputs": [],
   "source": [
    "checkpoint = torch.load('/content/gdrive/My Drive/Colab Notebooks/resnet18_5_10_epoch_v3.pth')"
   ]
  },
  {
   "cell_type": "code",
   "execution_count": null,
   "metadata": {},
   "outputs": [],
   "source": [
    "model.load_state_dict(checkpoint['model_state_dict'])\n",
    "optimizer.load_state_dict(checkpoint['optimizer_state_dict'])"
   ]
  },
  {
   "cell_type": "code",
   "execution_count": null,
   "metadata": {},
   "outputs": [],
   "source": [
    "tl_manager_finetuning_2 = TransferLearning(\n",
    "    experiments_path='/content/gdrive/My Drive/Colab Notebooks/',\n",
    "    experiments_name='resnet18_10_20_epoch_v3'\n",
    ")"
   ]
  },
  {
   "cell_type": "code",
   "execution_count": null,
   "metadata": {},
   "outputs": [],
   "source": [
    "%%skip $IMPATIENCE\n",
    "tl_manager_finetuning.train(\n",
    "     model=model,\n",
    "     criterion=criterion,\n",
    "     optimizer=optimizer,\n",
    "     train_dataset=train_dataset,\n",
    "     test_dataset=valid_dataset,\n",
    "     n_epochs=5,\n",
    "     batch_size=32,\n",
    "     shuffle=True\n",
    ")"
   ]
  }
 ],
 "metadata": {
  "kernelspec": {
   "display_name": "tmle",
   "language": "python",
   "name": "tmle"
  },
  "language_info": {
   "codemirror_mode": {
    "name": "ipython",
    "version": 3
   },
   "file_extension": ".py",
   "mimetype": "text/x-python",
   "name": "python",
   "nbconvert_exporter": "python",
   "pygments_lexer": "ipython3",
   "version": "3.6.8"
  }
 },
 "nbformat": 4,
 "nbformat_minor": 2
}
